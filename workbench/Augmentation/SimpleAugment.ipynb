{
 "cells": [
  {
   "cell_type": "code",
   "execution_count": 52,
   "metadata": {
    "collapsed": false,
    "scrolled": true
   },
   "outputs": [
    {
     "name": "stdout",
     "output_type": "stream",
     "text": [
      "found 11 files in scenery directory ./scenery/*\n"
     ]
    }
   ],
   "source": [
    "import os, fnmatch\n",
    "import matplotlib.pyplot as plt\n",
    "import numpy as np\n",
    "import pandas as pd\n",
    "import matplotlib\n",
    "import cv2\n",
    "import glob\n",
    "\n",
    "\n",
    "SAMPLES_PER_TAG = 200\n",
    "yaml = []\n",
    "\n",
    "def create_yaml_entry(tag, x_width, xmin, y_height, ymin, filename):\n",
    "    anno = '''- annotations:\n",
    "  - {class: %s, x_width: %d, xmin: %d, y_height: %d, ymin: %d}\n",
    "  class: image\n",
    "  filename: %s\n",
    "''' % (tag, x_width, xmin, y_height, ymin, filename)\n",
    "    return anno\n",
    "\n",
    "scenery = './scenery/*'\n",
    "annotated_images = './annotated_images/'\n",
    "\n",
    "tags = {'red', 'green', 'yellow', 'red-green'}\n",
    "directory = \"./positives/*/{}/*\".format(\"red\")\n",
    "\n",
    "S = []\n",
    "scenery_files = glob.glob(scenery)\n",
    "print(\"found %d files in scenery directory %s\" % (len(scenery_files), scenery))\n",
    "\n",
    "for s in scenery_files:\n",
    "    img = plt.imread(s)\n",
    "    img = cv2.resize(img, (600,800), interpolation=cv2.INTER_CUBIC)\n",
    "    S.append(img)\n",
    "    \n",
    "S = np.array(S)\n",
    "\n",
    "# Read X Vector\n",
    "\n",
    "for tag in tags:\n",
    "    directory = \"./positives/*/{}/*\".format(tag)\n",
    "\n",
    "    rois_images = glob.glob(directory)\n",
    "    \n",
    "    R = []\n",
    "    \n",
    "    for r in rois_images:\n",
    "        img = plt.imread(r)\n",
    "        R.append(img)\n",
    "    \n",
    "    R = np.array(R)\n",
    "    \n",
    "    for i in range(SAMPLES_PER_TAG):\n",
    "        r_rand = np.random.randint(0, len(R))\n",
    "        s_rand = np.random.randint(0, len(S))\n",
    "\n",
    "        roi = R[r_rand]\n",
    "        scenery = S[s_rand]\n",
    "    \n",
    "        scale_down = np.random.randint(25, 100) / 100.\n",
    "        roi = cv2.resize(roi, (0,0), fx=scale_down, fy=scale_down)\n",
    "    \n",
    "        annotated_image = np.copy(scenery)\n",
    "        \n",
    "        x_width = roi.shape[1]\n",
    "        xmin = np.random.randint(10, scenery.shape[1] - x_width - 10)\n",
    "        y_height = roi.shape[0]\n",
    "        ymin = np.random.randint(10, scenery.shape[0] - y_height - 10)\n",
    "        \n",
    "        filename = \"%s_%d.jpg\" % (tag, i)\n",
    "        \n",
    "        annotated_image[ymin:ymin+y_height,xmin:xmin+x_width ] = roi\n",
    "        \n",
    "        plt.imsave(arr = annotated_image, fname = annotated_images + filename)\n",
    "        \n",
    "        yaml.append(create_yaml_entry(tag, x_width, xmin, y_height, ymin, filename))\n",
    "\n",
    "with open(\"./annotation.yaml\", \"w\") as y:\n",
    "    for l in yaml:\n",
    "        y.write(l)\n",
    "\n"
   ]
  }
 ],
 "metadata": {
  "kernelspec": {
   "display_name": "Python 3",
   "language": "python",
   "name": "python3"
  },
  "language_info": {
   "codemirror_mode": {
    "name": "ipython",
    "version": 3
   },
   "file_extension": ".py",
   "mimetype": "text/x-python",
   "name": "python",
   "nbconvert_exporter": "python",
   "pygments_lexer": "ipython3",
   "version": "3.5.2"
  },
  "widgets": {
   "state": {},
   "version": "1.1.2"
  }
 },
 "nbformat": 4,
 "nbformat_minor": 2
}
